{
  "cells": [
    {
      "cell_type": "code",
      "execution_count": null,
      "id": "s7OfKw41g0SW",
      "metadata": {
        "colab": {
          "base_uri": "https://localhost:8080/"
        },
        "id": "s7OfKw41g0SW",
        "outputId": "3bd5e656-0096-411a-e8bf-31bfb7612bd9"
      },
      "outputs": [
        {
          "output_type": "stream",
          "name": "stdout",
          "text": [
            "Requirement already satisfied: python-telegram-bot==13.15 in /usr/local/lib/python3.11/dist-packages (13.15)\n",
            "Requirement already satisfied: certifi in /usr/local/lib/python3.11/dist-packages (from python-telegram-bot==13.15) (2025.4.26)\n",
            "Requirement already satisfied: tornado==6.1 in /usr/local/lib/python3.11/dist-packages (from python-telegram-bot==13.15) (6.1)\n",
            "Requirement already satisfied: APScheduler==3.6.3 in /usr/local/lib/python3.11/dist-packages (from python-telegram-bot==13.15) (3.6.3)\n",
            "Requirement already satisfied: pytz>=2018.6 in /usr/local/lib/python3.11/dist-packages (from python-telegram-bot==13.15) (2025.2)\n",
            "Requirement already satisfied: cachetools==4.2.2 in /usr/local/lib/python3.11/dist-packages (from python-telegram-bot==13.15) (4.2.2)\n",
            "Requirement already satisfied: setuptools>=0.7 in /usr/local/lib/python3.11/dist-packages (from APScheduler==3.6.3->python-telegram-bot==13.15) (75.2.0)\n",
            "Requirement already satisfied: six>=1.4.0 in /usr/local/lib/python3.11/dist-packages (from APScheduler==3.6.3->python-telegram-bot==13.15) (1.17.0)\n",
            "Requirement already satisfied: tzlocal>=1.2 in /usr/local/lib/python3.11/dist-packages (from APScheduler==3.6.3->python-telegram-bot==13.15) (5.3.1)\n"
          ]
        }
      ],
      "source": [
        "!pip install python-telegram-bot==13.15"
      ]
    },
    {
      "cell_type": "code",
      "execution_count": null,
      "id": "bsJrsKPnxQh4",
      "metadata": {
        "colab": {
          "base_uri": "https://localhost:8080/"
        },
        "id": "bsJrsKPnxQh4",
        "outputId": "1f963658-12b2-4fd1-b8d2-9c6f93c03894"
      },
      "outputs": [
        {
          "output_type": "stream",
          "name": "stderr",
          "text": [
            "[nltk_data] Downloading package stopwords to /root/nltk_data...\n",
            "[nltk_data]   Unzipping corpora/stopwords.zip.\n"
          ]
        }
      ],
      "source": [
        "import os\n",
        "import torch\n",
        "import spacy\n",
        "import nltk\n",
        "from transformers import BertTokenizer, BertForSequenceClassification\n",
        "from telegram.ext import Updater, MessageHandler, Filters, CommandHandler\n",
        "from telegram import ParseMode\n",
        "import threading\n",
        "\n",
        "nltk.download(\"stopwords\")\n",
        "nlp = spacy.load(\"en_core_web_sm\")"
      ]
    },
    {
      "cell_type": "code",
      "execution_count": null,
      "id": "Lj1fnbV5xQkT",
      "metadata": {
        "id": "Lj1fnbV5xQkT"
      },
      "outputs": [],
      "source": [
        "def classify_text_with_bert(text):\n",
        "    from nltk.corpus import stopwords\n",
        "    stop_words = set(stopwords.words(\"english\"))\n",
        "\n",
        "    article_clean = \" \".join([\n",
        "        token.lemma_ for token in nlp(text.lower())\n",
        "        if token.is_alpha and token.text not in stop_words\n",
        "    ])\n",
        "\n",
        "    tokenizer = BertTokenizer.from_pretrained(\"bert-base-uncased\")\n",
        "    model = BertForSequenceClassification.from_pretrained(\"./bert_model\")\n",
        "    model.eval()\n",
        "\n",
        "    inputs = tokenizer(article_clean, truncation=True, padding=True, return_tensors=\"pt\", max_length=512)\n",
        "    with torch.no_grad():\n",
        "        outputs = model(**inputs)\n",
        "        prediction = torch.argmax(outputs.logits, dim=1).item()\n",
        "\n",
        "    return \"REAL\" if prediction == 1 else \"FAKE\"\n"
      ]
    },
    {
      "cell_type": "code",
      "execution_count": null,
      "id": "JIVvbe4gxQmy",
      "metadata": {
        "id": "JIVvbe4gxQmy"
      },
      "outputs": [],
      "source": [
        "TELEGRAM_TOKEN = \"7620382002:AAF5wV5PzPxnKFlm6CDkU7epnt_qI__qwu0\"\n",
        "\n",
        "def start(update, context):\n",
        "    update.message.reply_text(\n",
        "        \"Привет! Пришли .txt файл с текстом статьи на английском, и я определю фейковая она или нет.\\n\"\n",
        "        \"Файл должен быть в формате .txt и содержать только текст статьи.\"\n",
        "    )\n",
        "\n",
        "def handle_plain_text(update, context):\n",
        "    update.message.reply_text(\"Пожалуйста, отправь файл, я пока не умею анализировать сообщения(\")\n",
        "\n",
        "def handle_document(update, context):\n",
        "    file = update.message.document\n",
        "\n",
        "    if file.mime_type != 'text/plain':\n",
        "        update.message.reply_text(\"Пожалуйста, отправь .txt файл.\")\n",
        "        return\n",
        "\n",
        "    update.message.reply_text(\"Файл получен. Анализирую...\")\n",
        "\n",
        "    file_path = f\"{file.file_id}.txt\"\n",
        "    file.get_file().download(file_path)\n",
        "\n",
        "    try:\n",
        "        with open(file_path, \"r\", encoding=\"utf-8\") as f:\n",
        "            text = f.read()\n",
        "\n",
        "        result = classify_text_with_bert(text)\n",
        "        update.message.reply_text(f\"Результат анализа: *{result}*\", parse_mode=ParseMode.MARKDOWN)\n",
        "\n",
        "    except Exception as e:\n",
        "        update.message.reply_text(f\"Ошибка при анализе файла: {str(e)}\")\n",
        "\n",
        "    finally:\n",
        "        if os.path.exists(file_path):\n",
        "            os.remove(file_path)\n",
        "\n",
        "def run_bot():\n",
        "    updater = Updater(TELEGRAM_TOKEN, use_context=True)\n",
        "    dp = updater.dispatcher\n",
        "\n",
        "    dp.add_handler(CommandHandler(\"start\", start))\n",
        "    dp.add_handler(MessageHandler(Filters.document.mime_type(\"text/plain\"), handle_document))\n",
        "    dp.add_handler(MessageHandler(Filters.text & ~Filters.command, handle_plain_text))\n",
        "\n",
        "    updater.start_polling()\n",
        "    updater.idle()\n",
        "\n",
        "threading.Thread(target=run_bot).start()"
      ]
    }
  ],
  "metadata": {
    "colab": {
      "provenance": []
    },
    "kernelspec": {
      "display_name": "Python 3",
      "name": "python3"
    },
    "language_info": {
      "name": "python"
    }
  },
  "nbformat": 4,
  "nbformat_minor": 5
}